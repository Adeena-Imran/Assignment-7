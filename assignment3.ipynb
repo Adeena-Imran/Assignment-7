{
  "nbformat": 4,
  "nbformat_minor": 0,
  "metadata": {
    "colab": {
      "provenance": [],
      "authorship_tag": "ABX9TyNyOf7WIRCkxy97AupGU4y5",
      "include_colab_link": true
    },
    "kernelspec": {
      "name": "python3",
      "display_name": "Python 3"
    },
    "language_info": {
      "name": "python"
    }
  },
  "cells": [
    {
      "cell_type": "markdown",
      "metadata": {
        "id": "view-in-github",
        "colab_type": "text"
      },
      "source": [
        "<a href=\"https://colab.research.google.com/github/Adeena-Imran/Assignment-7/blob/main/assignment3.ipynb\" target=\"_parent\"><img src=\"https://colab.research.google.com/assets/colab-badge.svg\" alt=\"Open In Colab\"/></a>"
      ]
    },
    {
      "cell_type": "markdown",
      "source": [
        "PYTHON ASSIGNMENT LIST TUPLES AND METHODS"
      ],
      "metadata": {
        "id": "lC1y-uwKX92Y"
      }
    },
    {
      "cell_type": "markdown",
      "source": [
        "APPEND METHOD"
      ],
      "metadata": {
        "id": "AHcgGPxQYSin"
      }
    },
    {
      "cell_type": "code",
      "execution_count": null,
      "metadata": {
        "colab": {
          "base_uri": "https://localhost:8080/"
        },
        "id": "jxc0q2oLX7F5",
        "outputId": "18112e62-f5d3-4d59-85bf-eefa28e639e5"
      },
      "outputs": [
        {
          "output_type": "stream",
          "name": "stdout",
          "text": [
            "[1, 2, 3, 4, 5]\n",
            "[1, 2, 3, 4, 5, 6]\n"
          ]
        }
      ],
      "source": [
        "numbers:list[int]=[1, 2, 3, 4, 5]\n",
        "print(numbers)\n",
        "numbers.append(6)\n",
        "print(numbers)"
      ]
    },
    {
      "cell_type": "markdown",
      "source": [
        "EXTEND METHOD"
      ],
      "metadata": {
        "id": "-Ept4TR2ZTvZ"
      }
    },
    {
      "cell_type": "code",
      "source": [
        "numlist2:list=[1, 2, 3]\n",
        "print(numlist2)\n",
        "numlist2.extend([4, 5, 6])\n",
        "print(numlist2)\n",
        "\n"
      ],
      "metadata": {
        "colab": {
          "base_uri": "https://localhost:8080/"
        },
        "id": "33bbZLNwZWS_",
        "outputId": "5d65f59a-7435-48e4-9d0f-6fb612e2ef4a"
      },
      "execution_count": null,
      "outputs": [
        {
          "output_type": "stream",
          "name": "stdout",
          "text": [
            "[1, 2, 3]\n",
            "[1, 2, 3, 4, 5, 6]\n"
          ]
        }
      ]
    },
    {
      "cell_type": "markdown",
      "source": [
        "INSERT METHOD"
      ],
      "metadata": {
        "id": "0RAbRH2Ia3jJ"
      }
    },
    {
      "cell_type": "code",
      "source": [
        "languages:list= [\"Java\", \"C++\", \"JavaScript\", \"Ruby\"]\n",
        "print(languages)\n",
        "languages.insert(2, \"Python\")\n",
        "print(languages)"
      ],
      "metadata": {
        "colab": {
          "base_uri": "https://localhost:8080/"
        },
        "id": "l16gvmYya5BB",
        "outputId": "7bf91f3f-31a3-4efd-9c60-3694ed19e1c8"
      },
      "execution_count": null,
      "outputs": [
        {
          "output_type": "stream",
          "name": "stdout",
          "text": [
            "['Java', 'C++', 'JavaScript', 'Ruby']\n",
            "['Java', 'C++', 'Python', 'JavaScript', 'Ruby']\n"
          ]
        }
      ]
    },
    {
      "cell_type": "markdown",
      "source": [
        "REMOVE FIRST OCCOURANCE OF NO.10"
      ],
      "metadata": {
        "id": "GxAGpFn_bWf0"
      }
    },
    {
      "cell_type": "code",
      "source": [
        "numlist3:list=[10, 20, 30, 10, 40]\n",
        "print(numlist3)\n",
        "numlist3.pop(0)\n",
        "print(numlist3)"
      ],
      "metadata": {
        "colab": {
          "base_uri": "https://localhost:8080/"
        },
        "id": "784pbl8Bbp0u",
        "outputId": "ed66e5d4-a1c7-467d-c4c1-82646e4f5344"
      },
      "execution_count": null,
      "outputs": [
        {
          "output_type": "stream",
          "name": "stdout",
          "text": [
            "[10, 20, 30, 10, 40]\n",
            "[20, 30, 10, 40]\n"
          ]
        }
      ]
    },
    {
      "cell_type": "markdown",
      "source": [
        "POP METHOD"
      ],
      "metadata": {
        "id": "71rEg6OccJWD"
      }
    },
    {
      "cell_type": "code",
      "source": [
        "numlist4:list=[100, 200, 300, 400]\n",
        "print(numlist4)\n",
        "numlist4.pop()\n",
        "print(numlist4)"
      ],
      "metadata": {
        "colab": {
          "base_uri": "https://localhost:8080/"
        },
        "id": "8DlNmbJHcK-w",
        "outputId": "38d1bf91-2d62-41bc-8ccd-0397c97dc84b"
      },
      "execution_count": null,
      "outputs": [
        {
          "output_type": "stream",
          "name": "stdout",
          "text": [
            "[100, 200, 300, 400]\n",
            "[100, 200, 300]\n"
          ]
        }
      ]
    },
    {
      "cell_type": "markdown",
      "source": [
        "COUNT METHOD"
      ],
      "metadata": {
        "id": "VffjDN-nchAq"
      }
    },
    {
      "cell_type": "code",
      "source": [
        "numlist5:list=[5, 10, 5, 20, 5, 30]\n",
        "print(numlist5.count(5))"
      ],
      "metadata": {
        "colab": {
          "base_uri": "https://localhost:8080/"
        },
        "id": "a4vaIvRLciw1",
        "outputId": "dcc0b65f-9eeb-40f0-c374-ec7718444e34"
      },
      "execution_count": null,
      "outputs": [
        {
          "output_type": "stream",
          "name": "stdout",
          "text": [
            "3\n"
          ]
        }
      ]
    },
    {
      "cell_type": "markdown",
      "source": [
        "SORT IN ASCENDING AND DESCENDING ORDER"
      ],
      "metadata": {
        "id": "eEPt5pOvdHid"
      }
    },
    {
      "cell_type": "code",
      "source": [
        "numb:list=[9, 1, 8, 3, 5]\n",
        "numb.sort()\n",
        "print(\"Ascending order\" ,numb)\n",
        "numb.sort(reverse=True)\n",
        "print(\"Descending order\", numb)"
      ],
      "metadata": {
        "colab": {
          "base_uri": "https://localhost:8080/"
        },
        "id": "JqG6fLcCdMaG",
        "outputId": "3644bb1e-7f3a-42d2-d763-ee2a0ea1ac55"
      },
      "execution_count": null,
      "outputs": [
        {
          "output_type": "stream",
          "name": "stdout",
          "text": [
            "Ascending order [1, 3, 5, 8, 9]\n",
            "Descending order [9, 8, 5, 3, 1]\n"
          ]
        }
      ]
    },
    {
      "cell_type": "markdown",
      "source": [
        "REVERSE METHOD"
      ],
      "metadata": {
        "id": "Xp5q9ColeXVN"
      }
    },
    {
      "cell_type": "code",
      "source": [
        "fruits:list=[\"apple\", \"banana\", \"cherry\"]\n",
        "fruits.reverse()\n",
        "print(fruits)"
      ],
      "metadata": {
        "colab": {
          "base_uri": "https://localhost:8080/"
        },
        "id": "0jH4cYm2eZH-",
        "outputId": "a60778a7-2471-4902-b144-ff2a40ab5622"
      },
      "execution_count": null,
      "outputs": [
        {
          "output_type": "stream",
          "name": "stdout",
          "text": [
            "['cherry', 'banana', 'apple']\n"
          ]
        }
      ]
    },
    {
      "cell_type": "markdown",
      "source": [
        "COPY AND STORE METHOD"
      ],
      "metadata": {
        "id": "JM_mfx2MfdGz"
      }
    },
    {
      "cell_type": "code",
      "source": [
        "list1:list= [1, 2, 3, 4, 5]\n",
        "copied_list = list1.copy()\n",
        "copied_list.append(6)\n",
        "print(\"Original list\", list1)\n",
        "print(\"Copied list\", copied_list)"
      ],
      "metadata": {
        "colab": {
          "base_uri": "https://localhost:8080/"
        },
        "id": "x0vTERYbffx9",
        "outputId": "c54352e4-955c-41ca-a3c0-fe0afddf7060"
      },
      "execution_count": null,
      "outputs": [
        {
          "output_type": "stream",
          "name": "stdout",
          "text": [
            "Original list [1, 2, 3, 4, 5]\n",
            "Copied list [1, 2, 3, 4, 5, 6]\n"
          ]
        }
      ]
    },
    {
      "cell_type": "markdown",
      "source": [
        "CLEAR METHOD"
      ],
      "metadata": {
        "id": "Rv5jN36tgJPQ"
      }
    },
    {
      "cell_type": "code",
      "source": [
        "words:list=[\"hello\", \"world\", \"python\"]\n",
        "words.clear()\n",
        "print(words)"
      ],
      "metadata": {
        "colab": {
          "base_uri": "https://localhost:8080/"
        },
        "id": "zuFzQ3IcgMfS",
        "outputId": "aa01dcf4-c2b8-4a75-e3c5-d963999b1327"
      },
      "execution_count": null,
      "outputs": [
        {
          "output_type": "stream",
          "name": "stdout",
          "text": [
            "[]\n"
          ]
        }
      ]
    },
    {
      "cell_type": "markdown",
      "source": [
        "TUPLE QUESTION NO.1"
      ],
      "metadata": {
        "id": "dmAlejjLgyD0"
      }
    },
    {
      "cell_type": "code",
      "source": [
        "fruit:list=[\"mango\", \"cherry\", \"kiwi\", \"orange\", \"apple\"]\n",
        "print(fruit[2])"
      ],
      "metadata": {
        "colab": {
          "base_uri": "https://localhost:8080/"
        },
        "id": "67jZiIZUg6jD",
        "outputId": "080a3915-5542-439d-bd05-eb6ee1527207"
      },
      "execution_count": null,
      "outputs": [
        {
          "output_type": "stream",
          "name": "stdout",
          "text": [
            "kiwi\n"
          ]
        }
      ]
    },
    {
      "cell_type": "markdown",
      "source": [
        "TUPLE QUESTION NO.2"
      ],
      "metadata": {
        "id": "4Zf3EMYrhQmb"
      }
    },
    {
      "cell_type": "code",
      "source": [
        "tup=(10, 20, 30, 40, 50)\n",
        "tup_list=list(tup)\n",
        "print(\"With 30\", tup_list)\n",
        "tup_list.remove(30)\n",
        "new_tup = tuple(tup_list)\n",
        "print(\"Removed 30\", new_tup)"
      ],
      "metadata": {
        "colab": {
          "base_uri": "https://localhost:8080/"
        },
        "id": "RzSzCmqphS77",
        "outputId": "6cdcae8e-1afd-46c3-ea18-94a76ec5423b"
      },
      "execution_count": null,
      "outputs": [
        {
          "output_type": "stream",
          "name": "stdout",
          "text": [
            "With 30 [10, 20, 30, 40, 50]\n",
            "Removed 30 (10, 20, 40, 50)\n"
          ]
        }
      ]
    },
    {
      "cell_type": "markdown",
      "source": [
        "TUPLE QUESTION NO.3         :\n",
        "Tuples in Python are immutable, which means we cannot directly append elements to a tuple like we can with lists. Instead, we can make a new tuple by joining the original tuple with another one."
      ],
      "metadata": {
        "id": "rAWaOxeciloZ"
      }
    },
    {
      "cell_type": "code",
      "source": [
        "tup2=(\"A\", \"B\", \"C\")\n",
        "tup_new=tup2 + (\"D\",)\n",
        "print(tup_new)"
      ],
      "metadata": {
        "colab": {
          "base_uri": "https://localhost:8080/"
        },
        "id": "uCC0fxhiint9",
        "outputId": "a1d6aedc-ad22-4f15-ea65-3f0df49c426e"
      },
      "execution_count": null,
      "outputs": [
        {
          "output_type": "stream",
          "name": "stdout",
          "text": [
            "('A', 'B', 'C', 'D')\n"
          ]
        }
      ]
    },
    {
      "cell_type": "markdown",
      "source": [
        "TUPLE QUESTION NO.4"
      ],
      "metadata": {
        "id": "d7LmQvbOaD2s"
      }
    },
    {
      "cell_type": "code",
      "source": [
        "tup3 = (100, 200, 300)\n",
        "var1, var2, var3 = tup3\n",
        "print(var1)\n",
        "print(var2)\n",
        "print(var3)"
      ],
      "metadata": {
        "colab": {
          "base_uri": "https://localhost:8080/"
        },
        "id": "4sh98MWOaGHc",
        "outputId": "0b0b28f0-dbd8-49b3-e9dc-34b79ed74748"
      },
      "execution_count": null,
      "outputs": [
        {
          "output_type": "stream",
          "name": "stdout",
          "text": [
            "100\n",
            "200\n",
            "300\n"
          ]
        }
      ]
    },
    {
      "cell_type": "markdown",
      "source": [
        "TUPLE QUESTION NO.5"
      ],
      "metadata": {
        "id": "HbileJ6Sbj7W"
      }
    },
    {
      "cell_type": "code",
      "source": [
        "tup4 = (7, 1, 7, 3, 7, 5)\n",
        "print(tup4.count(7))\n"
      ],
      "metadata": {
        "colab": {
          "base_uri": "https://localhost:8080/"
        },
        "id": "S4ry3Q2DbmgE",
        "outputId": "50d6ef3d-1af2-43e6-bd11-a8865416c2e6"
      },
      "execution_count": null,
      "outputs": [
        {
          "output_type": "stream",
          "name": "stdout",
          "text": [
            "3\n"
          ]
        }
      ]
    },
    {
      "cell_type": "markdown",
      "source": [
        "ADVANCED QUESTION NO.1\n"
      ],
      "metadata": {
        "id": "ofiQeQwJcAtE"
      }
    },
    {
      "cell_type": "code",
      "source": [
        "def odd_list(input_list):\n",
        "      return [num for num in input_list if num % 2 != 0]\n",
        "new_list = [1, 2, 3, 4, 5, 6, 7, 8]\n",
        "answer = odd_list(new_list)\n",
        "print(answer)\n",
        "\n"
      ],
      "metadata": {
        "colab": {
          "base_uri": "https://localhost:8080/"
        },
        "id": "0tlrbMmqcDSt",
        "outputId": "13b4e572-2601-4422-c5e9-a2ebb48505db"
      },
      "execution_count": null,
      "outputs": [
        {
          "output_type": "stream",
          "name": "stdout",
          "text": [
            "[1, 3, 5, 7]\n"
          ]
        }
      ]
    },
    {
      "cell_type": "markdown",
      "source": [
        "ADVANCED QUESTION NO.2"
      ],
      "metadata": {
        "id": "KkvJRtKRgKpJ"
      }
    },
    {
      "cell_type": "code",
      "source": [
        "def descending_list(input_list):\n",
        "  return sorted (input_list, reverse= True)\n",
        "my_list = [4, 1, 7, 9, 3, 2, 8]\n",
        "answer = descending_list(my_list)\n",
        "print(answer)"
      ],
      "metadata": {
        "colab": {
          "base_uri": "https://localhost:8080/"
        },
        "id": "OV5HNCUWgQWf",
        "outputId": "fb9f6133-a0fb-4ba2-d879-b52a40ffd9a8"
      },
      "execution_count": null,
      "outputs": [
        {
          "output_type": "stream",
          "name": "stdout",
          "text": [
            "[9, 8, 7, 4, 3, 2, 1]\n"
          ]
        }
      ]
    },
    {
      "cell_type": "markdown",
      "source": [
        "ADVANCED QUESTION NO.3  :\n",
        "We use set method because it automatically remove duplicates from the list."
      ],
      "metadata": {
        "id": "N4EvNCNvhHkL"
      }
    },
    {
      "cell_type": "code",
      "source": [
        "def remove(input_list):\n",
        "  unique_list =list(set(input_list))\n",
        "  return (unique_list)\n",
        "my_list2 = [1, 2, 3, 1, 4, 5, 3, 4, 6, 7, 8, 8, 9]\n",
        "answer = remove(my_list2)\n",
        "print(answer)"
      ],
      "metadata": {
        "colab": {
          "base_uri": "https://localhost:8080/"
        },
        "id": "Ny0U9U_OhK2G",
        "outputId": "a53fe99d-d297-4423-98ee-c1dce868e8dc"
      },
      "execution_count": null,
      "outputs": [
        {
          "output_type": "stream",
          "name": "stdout",
          "text": [
            "[1, 2, 3, 4, 5, 6, 7, 8, 9]\n"
          ]
        }
      ]
    },
    {
      "cell_type": "markdown",
      "source": [
        "ADVANCED QUESTION NO.4"
      ],
      "metadata": {
        "id": "uqqy4OrHimJE"
      }
    },
    {
      "cell_type": "code",
      "source": [
        "names= (\"Alice\", \"Bob\", \"Charlie\", \"Alice\", \"David\")\n",
        "names_list=list(set(names))\n",
        "print(\"Names List\", names_list)\n",
        "name_tup = tuple(names_list)\n",
        "print(\"In Tuple\", name_tup)"
      ],
      "metadata": {
        "colab": {
          "base_uri": "https://localhost:8080/"
        },
        "id": "hDJrTRY6ipSC",
        "outputId": "eadfc359-0b5f-4505-f7ee-63a79720723f"
      },
      "execution_count": null,
      "outputs": [
        {
          "output_type": "stream",
          "name": "stdout",
          "text": [
            "Names List ['Bob', 'Charlie', 'Alice', 'David']\n",
            "In Tuple ('Bob', 'Charlie', 'Alice', 'David')\n"
          ]
        }
      ]
    },
    {
      "cell_type": "markdown",
      "source": [
        "ADVANCED QUESTION NO.5"
      ],
      "metadata": {
        "id": "8TaMyFtXkmkG"
      }
    },
    {
      "cell_type": "code",
      "source": [
        "mixed_list = [10, \"Hello\", 3.25, 95, \"World\", 72, 5.22, \"Python\"]\n",
        "integers_list = [num for num in mixed_list if isinstance(num, int)]\n",
        "strings_list = [num for num in mixed_list if isinstance(num, str)]\n",
        "floats_list = [num for num in mixed_list if isinstance(num, float)]\n",
        "\n",
        "# Print the result\n",
        "print(\"Integers List:\", integers_list)\n",
        "print(\"Strings List:\", strings_list)\n",
        "print(\"Floats List:\", floats_list)\n"
      ],
      "metadata": {
        "colab": {
          "base_uri": "https://localhost:8080/"
        },
        "id": "lp-LKSoqkprZ",
        "outputId": "2b17df9e-8341-4744-c6ce-cc03d0eb43f8"
      },
      "execution_count": null,
      "outputs": [
        {
          "output_type": "stream",
          "name": "stdout",
          "text": [
            "Integers List: [10, 95, 72]\n",
            "Strings List: ['Hello', 'World', 'Python']\n",
            "Floats List: [3.25, 5.22]\n"
          ]
        }
      ]
    },
    {
      "cell_type": "code",
      "source": [
        "x=1\n",
        "x<<5"
      ],
      "metadata": {
        "colab": {
          "base_uri": "https://localhost:8080/"
        },
        "id": "b9SqN3fFBRvD",
        "outputId": "955c6d38-aa81-46bb-ae2f-cff9f9aa66ef"
      },
      "execution_count": null,
      "outputs": [
        {
          "output_type": "execute_result",
          "data": {
            "text/plain": [
              "32"
            ]
          },
          "metadata": {},
          "execution_count": 12
        }
      ]
    }
  ]
}